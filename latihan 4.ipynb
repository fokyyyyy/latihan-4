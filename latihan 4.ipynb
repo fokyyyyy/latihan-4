{
 "cells": [
  {
   "cell_type": "code",
   "execution_count": 3,
   "id": "c29313c2",
   "metadata": {},
   "outputs": [
    {
     "name": "stdout",
     "output_type": "stream",
     "text": [
      "13\n",
      "7\n",
      "30\n",
      "3.3333333333333335\n",
      "1\n",
      "1000\n",
      "3\n"
     ]
    }
   ],
   "source": [
    "a, b = 10,3\n",
    "\n",
    "#pertambahan\n",
    "print(a + b)\n",
    "hasil = a + b\n",
    "\n",
    "#perkurangan\n",
    "print(a - b)\n",
    "hasil = a - b\n",
    "\n",
    "#perkalian\n",
    "print(a * b)\n",
    "hasil = a * b\n",
    "\n",
    "#divisi\n",
    "print(a / b)\n",
    "hasil = a / b\n",
    "\n",
    "#modulus\n",
    "print(a % b)\n",
    "hasil = a % b\n",
    "\n",
    "#eksponen\n",
    "print(a ** b)\n",
    "hasil = a ** b\n",
    "\n",
    "#floor division\n",
    "print(a // b)\n",
    "hasil = a // b"
   ]
  },
  {
   "cell_type": "code",
   "execution_count": 5,
   "id": "36fd79b7",
   "metadata": {},
   "outputs": [
    {
     "name": "stdout",
     "output_type": "stream",
     "text": [
      "a = 10 -> 10\n",
      "a += 5 -> 15\n",
      "a -= 3 -> 12\n",
      "a *= 6 -> 72\n",
      "a /= 8 -> 9.0\n"
     ]
    }
   ],
   "source": [
    "a = 10\n",
    "print('a = 10 ->', a)\n",
    "\n",
    "a += 5\n",
    "print('a += 5 ->', a)\n",
    "\n",
    "a -= 3\n",
    "print('a -= 3 ->', a) \n",
    "\n",
    "a *= 6\n",
    "print('a *= 6 ->', a)\n",
    "\n",
    "a /= 8\n",
    "print('a /= 8 ->', a)"
   ]
  },
  {
   "cell_type": "code",
   "execution_count": 13,
   "id": "d98e6f72",
   "metadata": {},
   "outputs": [
    {
     "name": "stdout",
     "output_type": "stream",
     "text": [
      "20.5\n"
     ]
    }
   ],
   "source": [
    "#latihan\n",
    "\n",
    "print (5*2**2+10/20)"
   ]
  },
  {
   "cell_type": "code",
   "execution_count": 14,
   "id": "b0866966",
   "metadata": {},
   "outputs": [
    {
     "name": "stdout",
     "output_type": "stream",
     "text": [
      "False\n",
      "True\n",
      "False\n",
      "True\n",
      "False\n",
      "True\n"
     ]
    }
   ],
   "source": [
    "a, b = 5, 10\n",
    "\n",
    "print(a > b)\n",
    "print(a < b)\n",
    "print(a == b)\n",
    "print(a != b)\n",
    "print(a >= b)\n",
    "print(a <= b)"
   ]
  },
  {
   "cell_type": "code",
   "execution_count": 19,
   "id": "56f39a11",
   "metadata": {},
   "outputs": [
    {
     "name": "stdout",
     "output_type": "stream",
     "text": [
      "400<100= False\n",
      "10 x 2 = 20 True\n",
      "50>10= False\n",
      "50 x 2 != 100 True\n",
      "2 x 3 x 4 >=24 True\n"
     ]
    }
   ],
   "source": [
    "#latihan 2\n",
    "\n",
    "print('400<100=', 400<100)\n",
    "print('10 x 2 = 20', 10*2==20)\n",
    "print('50>10=', 5>10)\n",
    "print('50 x 2 != 100',50*2 !=200)\n",
    "print('2 x 3 x 4 >=24', 2*3*4 >= 24)"
   ]
  },
  {
   "cell_type": "code",
   "execution_count": 34,
   "id": "eded8b94",
   "metadata": {},
   "outputs": [
    {
     "name": "stdout",
     "output_type": "stream",
     "text": [
      "nilai1 dan nilai2 = False\n"
     ]
    }
   ],
   "source": [
    "#operator logika\n",
    "\n",
    "a < 5 and b < 10\n",
    "\n",
    "nilai1 = True\n",
    "nilai2 = False\n",
    "nilai3 = True\n",
    "\n",
    "print(\"nilai1 dan nilai2 = \" + str(nilai1 and nilai2))"
   ]
  },
  {
   "cell_type": "code",
   "execution_count": 33,
   "id": "ebbdbeb6",
   "metadata": {},
   "outputs": [
    {
     "name": "stdout",
     "output_type": "stream",
     "text": [
      "murah dan diskon =True\n",
      "tidak murah =False\n"
     ]
    }
   ],
   "source": [
    "#latihan 3 \n",
    "\n",
    "murah = True\n",
    "diskon = True\n",
    "tidak_murah = False\n",
    "\n",
    "print(\"murah dan diskon =\" + str(murah and diskon))\n",
    "print(\"tidak murah =\" + str(not murah and not diskon))"
   ]
  },
  {
   "cell_type": "code",
   "execution_count": 36,
   "id": "e7886f7d",
   "metadata": {},
   "outputs": [
    {
     "name": "stdout",
     "output_type": "stream",
     "text": [
      "a is b: True\n",
      "a is not b: False\n",
      "list_a is list_b: False\n",
      "list_a == list_b: True\n",
      "nama_a is name_b: True\n",
      "nama_a is not nama_b: False\n"
     ]
    }
   ],
   "source": [
    "a = 5\n",
    "b = 5 \n",
    "list_a = [1, 2, 3]\n",
    "list_b = [1, 2 ,3]\n",
    "nama_a = 'budi'\n",
    "nama_b = 'budi'\n",
    "\n",
    "#output True\n",
    "print('a is b:', a is b)\n",
    "#output False\n",
    "print('a is not b:', a is not b)\n",
    "\n",
    "#output False\n",
    "print('list_a is list_b:', list_a is list_b)\n",
    "#output True\n",
    "print('list_a == list_b:', list_a == list_b)\n",
    "\n",
    "#output True\n",
    "print('nama_a is name_b:', nama_a is nama_b)\n",
    "#output False\n",
    "print('nama_a is not nama_b:', nama_a is not nama_b)"
   ]
  },
  {
   "cell_type": "code",
   "execution_count": 37,
   "id": "63124c4d",
   "metadata": {},
   "outputs": [
    {
     "name": "stdout",
     "output_type": "stream",
     "text": [
      "bahasa_1 is bahasa_2: False\n",
      "bahasa_1 is not bahasa_2: True\n"
     ]
    }
   ],
   "source": [
    "#example\n",
    "\n",
    "bahasa_1 = 'inggris'\n",
    "bahasa_2 = 'indonesia'\n",
    "\n",
    "#output False\n",
    "print('bahasa_1 is bahasa_2:', bahasa_1 is bahasa_2)\n",
    "#output True\n",
    "print('bahasa_1 is not bahasa_2:', bahasa_1 is not bahasa_2)"
   ]
  },
  {
   "cell_type": "code",
   "execution_count": 38,
   "id": "8b0336fd",
   "metadata": {},
   "outputs": [
    {
     "name": "stdout",
     "output_type": "stream",
     "text": [
      "apakah 'c' ada di variabel perusahaan? True\n",
      "apakah 'z' tidak ada divariabel perusahaan? False\n"
     ]
    }
   ],
   "source": [
    "perusahaan = 'microsoft'\n",
    "list_pulau = ['jawa', 'sumatra', 'sulawesi']\n",
    "\n",
    "mahasiswa = {\n",
    "    'nama': 'lendis febri',\n",
    "    'asal': 'lamongan'\n",
    "}\n",
    "\n",
    "print(\n",
    "    \"apakah 'c' ada di variabel perusahaan?\",'c' in perusahaan)\n",
    "print(\n",
    "    \"apakah 'z' tidak ada divariabel perusahaan?\", 'c' not in perusahaan)"
   ]
  },
  {
   "cell_type": "code",
   "execution_count": 48,
   "id": "5699122e",
   "metadata": {},
   "outputs": [
    {
     "name": "stdout",
     "output_type": "stream",
     "text": [
      "00000000\n",
      "00000001\n",
      "00000010\n",
      "00100101\n"
     ]
    }
   ],
   "source": [
    ">>> # biner dari angka 0\n",
    ">>> # biner dari angka 1 \n",
    ">>> # biner dari angka 2\n",
    ">>> # biner dari angka 37\n",
    "\n",
    ">>> print(format(0, '08b'))\n",
    ">>> print(format(1, '08b'))\n",
    ">>> print(format(2, '08b'))\n",
    ">>> print(format(37, '08b'))\n",
    "          "
   ]
  },
  {
   "cell_type": "code",
   "execution_count": 49,
   "id": "9e7244f2",
   "metadata": {},
   "outputs": [
    {
     "name": "stdout",
     "output_type": "stream",
     "text": [
      "huruf h: 01101000\n",
      "huruf e: 01100101\n",
      "huruf 1: 01101100\n",
      "huruf 1: 01101100\n",
      "huruf o: 01101111\n"
     ]
    }
   ],
   "source": [
    "#latihan terakhir\n",
    "\n",
    "#biner dari angka 104\n",
    "print('huruf h:',format(104, '08b'))\n",
    "#biner dari angka 101\n",
    "print('huruf e:',format(101, '08b'))\n",
    "#biner dari angka 108\n",
    "print('huruf 1:',format(108, '08b'))\n",
    "#biner dari angka 108\n",
    "print('huruf 1:',format(108, '08b'))\n",
    "#biner dari angka 111\n",
    "print('huruf o:',format(111, '08b'))\n",
    "          "
   ]
  },
  {
   "cell_type": "code",
   "execution_count": null,
   "id": "615f0772",
   "metadata": {},
   "outputs": [],
   "source": []
  }
 ],
 "metadata": {
  "kernelspec": {
   "display_name": "Python 3 (ipykernel)",
   "language": "python",
   "name": "python3"
  },
  "language_info": {
   "codemirror_mode": {
    "name": "ipython",
    "version": 3
   },
   "file_extension": ".py",
   "mimetype": "text/x-python",
   "name": "python",
   "nbconvert_exporter": "python",
   "pygments_lexer": "ipython3",
   "version": "3.9.12"
  }
 },
 "nbformat": 4,
 "nbformat_minor": 5
}
